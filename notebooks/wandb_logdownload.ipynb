{
  "cells": [
    {
      "cell_type": "code",
      "execution_count": 2,
      "metadata": {},
      "outputs": [],
      "source": [
        "import wandb\n",
        "import pandas as pd"
      ]
    },
    {
      "cell_type": "code",
      "execution_count": 3,
      "metadata": {},
      "outputs": [
        {
          "name": "stderr",
          "output_type": "stream",
          "text": [
            "\u001b[34m\u001b[1mwandb\u001b[0m: \u001b[33mWARNING\u001b[0m If you're specifying your api key in code, ensure this code is not shared publicly.\n",
            "\u001b[34m\u001b[1mwandb\u001b[0m: \u001b[33mWARNING\u001b[0m Consider setting the WANDB_API_KEY environment variable, or running `wandb login` from the command line.\n",
            "\u001b[34m\u001b[1mwandb\u001b[0m: Appending key for api.wandb.ai to your netrc file: /Users/satyajeetprabhu/.netrc\n",
            "\u001b[34m\u001b[1mwandb\u001b[0m: Currently logged in as: \u001b[33msatyajeetp\u001b[0m (\u001b[33msatyajeetp-universitat-pompeu-fabra\u001b[0m) to \u001b[32mhttps://api.wandb.ai\u001b[0m. Use \u001b[1m`wandb login --relogin`\u001b[0m to force relogin\n"
          ]
        },
        {
          "data": {
            "text/plain": [
              "True"
            ]
          },
          "execution_count": 3,
          "metadata": {},
          "output_type": "execute_result"
        }
      ],
      "source": [
        "wandb.login(key='40ce66ff8d453431f4c75ca162a50b37f7f0f1e1')"
      ]
    },
    {
      "cell_type": "code",
      "execution_count": null,
      "metadata": {},
      "outputs": [],
      "source": [
        "# seed 0 trainfold 1\n",
        "# satyajeetp-universitat-pompeu-fabra/cmr-fold1-finetune-50/ifmyw38r\n",
        "\n",
        "# seed 0 trainfold 2\n",
        "# satyajeetp-universitat-pompeu-fabra/cmr-fold2-finetune-50/pn3nbgw9"
      ]
    },
    {
      "cell_type": "code",
      "execution_count": 4,
      "metadata": {},
      "outputs": [],
      "source": [
        "# Initialize W&B API\n",
        "api = wandb.Api()\n",
        "\n",
        "# Access the specific run\n",
        "run = api.run(\"satyajeetp-universitat-pompeu-fabra/cmr-fold2-finetune-50/pn3nbgw9\")"
      ]
    },
    {
      "cell_type": "code",
      "execution_count": 5,
      "metadata": {},
      "outputs": [],
      "source": [
        "# Collect full history with all columns\n",
        "records = []\n",
        "for row in run.scan_history():\n",
        "    records.append(row)\n",
        "\n",
        "history = pd.DataFrame(records)\n",
        "\n",
        "#history.to_csv('history.csv', index=False)"
      ]
    },
    {
      "cell_type": "code",
      "execution_count": null,
      "metadata": {},
      "outputs": [
        {
          "name": "stdout",
          "output_type": "stream",
          "text": [
            "    epoch  val_avg_f1\n",
            "0     0.0         NaN\n",
            "1     1.0         NaN\n",
            "2     2.0         NaN\n",
            "3     3.0         NaN\n",
            "4     4.0    0.620647\n",
            "5     5.0         NaN\n",
            "6     6.0         NaN\n",
            "7     7.0         NaN\n",
            "8     8.0         NaN\n",
            "9     9.0    0.692277\n",
            "10   10.0         NaN\n",
            "11   11.0         NaN\n",
            "12   12.0         NaN\n",
            "13   13.0         NaN\n",
            "14   14.0    0.724239\n",
            "15   15.0         NaN\n",
            "16   16.0         NaN\n",
            "17   17.0         NaN\n",
            "18   18.0         NaN\n",
            "19   19.0    0.740957\n",
            "20   20.0         NaN\n",
            "21   21.0         NaN\n",
            "22   22.0         NaN\n",
            "23   23.0         NaN\n",
            "24   24.0    0.790037\n",
            "25   25.0         NaN\n",
            "26   26.0         NaN\n",
            "27   27.0         NaN\n",
            "28   28.0         NaN\n",
            "29   29.0    0.800097\n",
            "30   30.0         NaN\n",
            "31   31.0         NaN\n",
            "32   32.0         NaN\n",
            "33   33.0         NaN\n",
            "34   34.0    0.803740\n",
            "35   35.0         NaN\n",
            "36   36.0         NaN\n",
            "37   37.0         NaN\n",
            "38   38.0         NaN\n",
            "39   39.0    0.823376\n",
            "40   40.0         NaN\n",
            "41   41.0         NaN\n",
            "42   42.0         NaN\n",
            "43   43.0         NaN\n",
            "44   44.0    0.821262\n",
            "45   45.0         NaN\n",
            "46   46.0         NaN\n",
            "47   47.0         NaN\n",
            "48   48.0         NaN\n",
            "49   49.0    0.814723\n",
            "50   50.0         NaN\n"
          ]
        }
      ],
      "source": [
        "# Check if the expected metrics exist\n",
        "if 'val_F-measure_beat' in history.columns and 'val_F-measure_downbeat' in history.columns:\n",
        "    # Compute average\n",
        "    history['val_avg_f1'] = (history['val_F-measure_beat'] + history['val_F-measure_downbeat']) / 2\n",
        "\n",
        "    # Group by epoch\n",
        "    avg_per_epoch = history.groupby('epoch')['val_avg_f1'].mean().reset_index()\n",
        "\n",
        "    # Output result\n",
        "    print(avg_per_epoch)\n",
        "    #avg_per_epoch.to_csv(\"avg_f1_per_epoch.csv\", index=False)\n",
        "else:\n",
        "    print(\"Expected metrics not found. Available columns:\")\n",
        "    print(history.columns.tolist())"
      ]
    },
    {
      "cell_type": "code",
      "execution_count": null,
      "metadata": {},
      "outputs": [],
      "source": []
    },
    {
      "cell_type": "code",
      "execution_count": null,
      "metadata": {},
      "outputs": [],
      "source": []
    }
  ],
  "metadata": {
    "colab": {
      "authorship_tag": "ABX9TyOW4OkTmphTrvw2IQLr+kxP",
      "include_colab_link": true,
      "provenance": []
    },
    "kernelspec": {
      "display_name": "beatnavid",
      "language": "python",
      "name": "python3"
    },
    "language_info": {
      "codemirror_mode": {
        "name": "ipython",
        "version": 3
      },
      "file_extension": ".py",
      "mimetype": "text/x-python",
      "name": "python",
      "nbconvert_exporter": "python",
      "pygments_lexer": "ipython3",
      "version": "3.11.13"
    }
  },
  "nbformat": 4,
  "nbformat_minor": 0
}
