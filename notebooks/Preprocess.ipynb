{
  "cells": [
    {
      "cell_type": "markdown",
      "metadata": {},
      "source": [
        "<a href=\"https://colab.research.google.com/github/satyajeetprabhu/beat-this-carnatic/blob/main/Preprocess.ipynb\" target=\"_parent\"><img src=\"https://colab.research.google.com/assets/colab-badge.svg\" alt=\"Open In Colab\"/></a>"
      ]
    },
    {
      "cell_type": "code",
      "execution_count": null,
      "metadata": {},
      "outputs": [],
      "source": [
        "from google.colab import drive\n",
        "drive.mount('/content/drive')"
      ]
    },
    {
      "cell_type": "code",
      "execution_count": null,
      "metadata": {},
      "outputs": [],
      "source": [
        "!pip install git+https://github.com/satyajeetprabhu/beat-this-carnatic.git\n",
        "!pip install git+https://github.com/mir-dataset-loaders/mirdata.git\n",
        "!pip install pandas pedalboard"
      ]
    },
    {
      "cell_type": "code",
      "execution_count": null,
      "metadata": {},
      "outputs": [],
      "source": [
        "!pip install https://github.com/satyajeetprabhu/beat-this-carnatic.git\n",
        "\n",
        "import os\n",
        "import pandas as pd\n",
        "import shutil\n",
        "from carn_utils.carn_dataloader import copy_by_fold\n",
        "from carn_utils.split_utils import carn_split_keys, export_split_tsv\n"
      ]
    },
    {
      "cell_type": "code",
      "execution_count": null,
      "metadata": {},
      "outputs": [],
      "source": [
        "# Run the function with your parameters\n",
        "dataset_path = '/content/drive/MyDrive/Datasets/CMR'\n",
        "output_dir = '/content/drive/MyDrive/Beat_This_CMR/'"
      ]
    },
    {
      "cell_type": "markdown",
      "metadata": {},
      "source": [
        "## Carnatic Dataloader"
      ]
    },
    {
      "cell_type": "code",
      "execution_count": 3,
      "metadata": {},
      "outputs": [
        {
          "name": "stdout",
          "output_type": "stream",
          "text": [
            "Initializing Carnatic rhythm dataset...\n"
          ]
        },
        {
          "name": "stderr",
          "output_type": "stream",
          "text": [
            "INFO: Downloading ['index', 'index']. Index is being stored in /Users/satyajeetprabhu/miniconda3/envs/beathis/lib/python3.11/site-packages/mirdata/datasets/indexes, and the rest of files in ../../datasets/CMR\n",
            "INFO: [index] downloading compmusic_carnatic_rhythm_full_index_1.0.json\n",
            "INFO: /Users/satyajeetprabhu/miniconda3/envs/beathis/lib/python3.11/site-packages/mirdata/datasets/indexes/compmusic_carnatic_rhythm_full_index_1.0.json already exists and will not be downloaded. Rerun with force_overwrite=True to delete this file and force the download.\n",
            "INFO: [index] downloading compmusic_carnatic_rhythm_full_index_1.0.json\n",
            "INFO: /Users/satyajeetprabhu/miniconda3/envs/beathis/lib/python3.11/site-packages/mirdata/datasets/indexes/compmusic_carnatic_rhythm_full_index_1.0.json already exists and will not be downloaded. Rerun with force_overwrite=True to delete this file and force the download.\n",
            "INFO: The files of this dataset are shared under request. Please go to: https://zenodo.org/record/1264394 and request access, stating\n",
            "    the research-related use you will give to the dataset. Once the access is granted (it may take, at most, one day or two), please download \n",
            "    the dataset with the provided Zenodo link and uncompress the two zip files: CMR_full_dataset_1.0.zip and CMR_subset_1.0.zip. You don't need \n",
            "    to re-arrange or change the folder structure of these two versions, the dataloader is designed to work with the provided file organization. \n",
            "    Therefore, simply uncompress and store the datasets to a desired location, and use such location to initialize the dataset as follows: \n",
            "    \n",
            "    compmusic_carnatic_rhythm = mirdata.initialize(\"compmusic_carnatic_rhythm\", data_home=\"/path/to/home/folder/of/dataset\").\n",
            "    \n"
          ]
        },
        {
          "name": "stdout",
          "output_type": "stream",
          "text": [
            "Downloading dataset index...\n",
            "Loading tracks...\n",
            "Copying audio files for fold 1\n",
            "Copying annotation files for fold 1\n",
            "Creating info.json for fold 1\n",
            "Copying audio files for fold 2\n",
            "Copying annotation files for fold 2\n",
            "Creating info.json for fold 2\n",
            "Created audio_paths.tsv file at data/audio_paths.tsv\n",
            "Dataset splits creation completed successfully!\n"
          ]
        }
      ],
      "source": [
        "copy_by_fold(dataset_path=dataset_path, validate=False, verbose=True)"
      ]
    },
    {
      "cell_type": "code",
      "execution_count": 4,
      "metadata": {},
      "outputs": [
        {
          "name": "stderr",
          "output_type": "stream",
          "text": [
            "INFO: Downloading ['index', 'index']. Index is being stored in /Users/satyajeetprabhu/miniconda3/envs/beathis/lib/python3.11/site-packages/mirdata/datasets/indexes, and the rest of files in ../../datasets/CMR\n",
            "INFO: [index] downloading compmusic_carnatic_rhythm_full_index_1.0.json\n",
            "INFO: /Users/satyajeetprabhu/miniconda3/envs/beathis/lib/python3.11/site-packages/mirdata/datasets/indexes/compmusic_carnatic_rhythm_full_index_1.0.json already exists and will not be downloaded. Rerun with force_overwrite=True to delete this file and force the download.\n",
            "INFO: [index] downloading compmusic_carnatic_rhythm_full_index_1.0.json\n",
            "INFO: /Users/satyajeetprabhu/miniconda3/envs/beathis/lib/python3.11/site-packages/mirdata/datasets/indexes/compmusic_carnatic_rhythm_full_index_1.0.json already exists and will not be downloaded. Rerun with force_overwrite=True to delete this file and force the download.\n",
            "INFO: The files of this dataset are shared under request. Please go to: https://zenodo.org/record/1264394 and request access, stating\n",
            "    the research-related use you will give to the dataset. Once the access is granted (it may take, at most, one day or two), please download \n",
            "    the dataset with the provided Zenodo link and uncompress the two zip files: CMR_full_dataset_1.0.zip and CMR_subset_1.0.zip. You don't need \n",
            "    to re-arrange or change the folder structure of these two versions, the dataloader is designed to work with the provided file organization. \n",
            "    Therefore, simply uncompress and store the datasets to a desired location, and use such location to initialize the dataset as follows: \n",
            "    \n",
            "    compmusic_carnatic_rhythm = mirdata.initialize(\"compmusic_carnatic_rhythm\", data_home=\"/path/to/home/folder/of/dataset\").\n",
            "    \n",
            "INFO: Downloading ['index', 'index']. Index is being stored in /Users/satyajeetprabhu/miniconda3/envs/beathis/lib/python3.11/site-packages/mirdata/datasets/indexes, and the rest of files in ../../datasets/CMR\n",
            "INFO: [index] downloading compmusic_carnatic_rhythm_full_index_1.0.json\n",
            "INFO: /Users/satyajeetprabhu/miniconda3/envs/beathis/lib/python3.11/site-packages/mirdata/datasets/indexes/compmusic_carnatic_rhythm_full_index_1.0.json already exists and will not be downloaded. Rerun with force_overwrite=True to delete this file and force the download.\n",
            "INFO: [index] downloading compmusic_carnatic_rhythm_full_index_1.0.json\n",
            "INFO: /Users/satyajeetprabhu/miniconda3/envs/beathis/lib/python3.11/site-packages/mirdata/datasets/indexes/compmusic_carnatic_rhythm_full_index_1.0.json already exists and will not be downloaded. Rerun with force_overwrite=True to delete this file and force the download.\n",
            "INFO: The files of this dataset are shared under request. Please go to: https://zenodo.org/record/1264394 and request access, stating\n",
            "    the research-related use you will give to the dataset. Once the access is granted (it may take, at most, one day or two), please download \n",
            "    the dataset with the provided Zenodo link and uncompress the two zip files: CMR_full_dataset_1.0.zip and CMR_subset_1.0.zip. You don't need \n",
            "    to re-arrange or change the folder structure of these two versions, the dataloader is designed to work with the provided file organization. \n",
            "    Therefore, simply uncompress and store the datasets to a desired location, and use such location to initialize the dataset as follows: \n",
            "    \n",
            "    compmusic_carnatic_rhythm = mirdata.initialize(\"compmusic_carnatic_rhythm\", data_home=\"/path/to/home/folder/of/dataset\").\n",
            "    \n"
          ]
        },
        {
          "name": "stdout",
          "output_type": "stream",
          "text": [
            "Processing fold 1...\n",
            "Processing fold 2...\n"
          ]
        }
      ],
      "source": [
        "seed = 0\n",
        "folds = [1,2]\n",
        "\n",
        "for fold in folds:\n",
        "    print(f\"Processing fold {fold}...\")\n",
        "    # Get the split keys for the current fold\n",
        "    export_split_tsv(dataset_path=dataset_path, train_fold=fold, seed=seed)"
      ]
    },
    {
      "cell_type": "markdown",
      "metadata": {},
      "source": [
        "## Preprocess"
      ]
    },
    {
      "cell_type": "code",
      "execution_count": null,
      "metadata": {},
      "outputs": [],
      "source": [
        "!python launch_scripts/preprocess_audio.py --orig_audio_paths data/audio_paths.tsv"
      ]
    },
    {
      "cell_type": "markdown",
      "metadata": {},
      "source": [
        "### Optionally delete the generated audio files after preprocessing to save space"
      ]
    },
    {
      "cell_type": "code",
      "execution_count": null,
      "metadata": {},
      "outputs": [],
      "source": [
        "folders_to_delete = [\n",
        "    \"data/audio/cmr-fold1\",\n",
        "    \"data/audio/cmr-fold2\",\n",
        "    \"data/audio/mono_tracks\"\n",
        "]\n",
        "\n",
        "for folder in folders_to_delete:\n",
        "    if os.path.exists(folder):\n",
        "        print(f\"Deleting {folder} ...\")\n",
        "        shutil.rmtree(folder)\n",
        "    else:\n",
        "        print(f\"{folder} does not exist, skipping.\")\n"
      ]
    }
  ],
  "metadata": {
    "colab": {
      "authorship_tag": "ABX9TyOW4OkTmphTrvw2IQLr+kxP",
      "include_colab_link": true,
      "provenance": []
    },
    "kernelspec": {
      "display_name": "beatnavid",
      "language": "python",
      "name": "python3"
    },
    "language_info": {
      "codemirror_mode": {
        "name": "ipython",
        "version": 3
      },
      "file_extension": ".py",
      "mimetype": "text/x-python",
      "name": "python",
      "nbconvert_exporter": "python",
      "pygments_lexer": "ipython3",
      "version": "3.11.13"
    }
  },
  "nbformat": 4,
  "nbformat_minor": 0
}
