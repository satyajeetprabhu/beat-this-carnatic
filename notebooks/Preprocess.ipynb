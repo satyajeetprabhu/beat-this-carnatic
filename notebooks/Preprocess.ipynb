{
  "cells": [
    {
      "cell_type": "markdown",
      "metadata": {
        "id": "KdvjOgodqX59"
      },
      "source": [
        "<a href=\"https://colab.research.google.com/github/satyajeetprabhu/beat-this-carnatic/blob/main/notebooks/Preprocess.ipynb\" target=\"_parent\"><img src=\"https://colab.research.google.com/assets/colab-badge.svg\" alt=\"Open In Colab\"/></a>"
      ]
    },
    {
      "cell_type": "code",
      "execution_count": 1,
      "metadata": {
        "colab": {
          "base_uri": "https://localhost:8080/"
        },
        "id": "FwqtlWQbqX59",
        "outputId": "556bfb24-8975-4387-e9e6-0e8c8b023321"
      },
      "outputs": [
        {
          "output_type": "stream",
          "name": "stdout",
          "text": [
            "Mounted at /content/drive\n"
          ]
        }
      ],
      "source": [
        "from google.colab import drive\n",
        "drive.mount('/content/drive')"
      ]
    },
    {
      "cell_type": "code",
      "execution_count": 2,
      "metadata": {
        "colab": {
          "base_uri": "https://localhost:8080/"
        },
        "id": "FgK0W7FNqX59",
        "outputId": "8a831fd5-623b-4bf3-84e0-27215f89bd21"
      },
      "outputs": [
        {
          "output_type": "stream",
          "name": "stdout",
          "text": [
            "Collecting git+https://github.com/satyajeetprabhu/beat-this-carnatic.git\n",
            "  Cloning https://github.com/satyajeetprabhu/beat-this-carnatic.git to /tmp/pip-req-build-mshe37s9\n",
            "  Running command git clone --filter=blob:none --quiet https://github.com/satyajeetprabhu/beat-this-carnatic.git /tmp/pip-req-build-mshe37s9\n",
            "  Resolved https://github.com/satyajeetprabhu/beat-this-carnatic.git to commit 509118d1554f9b0d718b199672e5b4d9fabec381\n",
            "  Preparing metadata (setup.py) ... \u001b[?25l\u001b[?25hdone\n",
            "Requirement already satisfied: numpy in /usr/local/lib/python3.12/dist-packages (from beat-this==0.1) (2.0.2)\n",
            "Requirement already satisfied: torch>=2 in /usr/local/lib/python3.12/dist-packages (from beat-this==0.1) (2.8.0+cu126)\n",
            "Requirement already satisfied: torchaudio in /usr/local/lib/python3.12/dist-packages (from beat-this==0.1) (2.8.0+cu126)\n",
            "Requirement already satisfied: einops in /usr/local/lib/python3.12/dist-packages (from beat-this==0.1) (0.8.1)\n",
            "Collecting rotary-embedding-torch (from beat-this==0.1)\n",
            "  Downloading rotary_embedding_torch-0.8.9-py3-none-any.whl.metadata (883 bytes)\n",
            "Requirement already satisfied: soxr in /usr/local/lib/python3.12/dist-packages (from beat-this==0.1) (0.5.0.post1)\n",
            "Requirement already satisfied: filelock in /usr/local/lib/python3.12/dist-packages (from torch>=2->beat-this==0.1) (3.19.1)\n",
            "Requirement already satisfied: typing-extensions>=4.10.0 in /usr/local/lib/python3.12/dist-packages (from torch>=2->beat-this==0.1) (4.15.0)\n",
            "Requirement already satisfied: setuptools in /usr/local/lib/python3.12/dist-packages (from torch>=2->beat-this==0.1) (75.2.0)\n",
            "Requirement already satisfied: sympy>=1.13.3 in /usr/local/lib/python3.12/dist-packages (from torch>=2->beat-this==0.1) (1.13.3)\n",
            "Requirement already satisfied: networkx in /usr/local/lib/python3.12/dist-packages (from torch>=2->beat-this==0.1) (3.5)\n",
            "Requirement already satisfied: jinja2 in /usr/local/lib/python3.12/dist-packages (from torch>=2->beat-this==0.1) (3.1.6)\n",
            "Requirement already satisfied: fsspec in /usr/local/lib/python3.12/dist-packages (from torch>=2->beat-this==0.1) (2025.3.0)\n",
            "Requirement already satisfied: nvidia-cuda-nvrtc-cu12==12.6.77 in /usr/local/lib/python3.12/dist-packages (from torch>=2->beat-this==0.1) (12.6.77)\n",
            "Requirement already satisfied: nvidia-cuda-runtime-cu12==12.6.77 in /usr/local/lib/python3.12/dist-packages (from torch>=2->beat-this==0.1) (12.6.77)\n",
            "Requirement already satisfied: nvidia-cuda-cupti-cu12==12.6.80 in /usr/local/lib/python3.12/dist-packages (from torch>=2->beat-this==0.1) (12.6.80)\n",
            "Requirement already satisfied: nvidia-cudnn-cu12==9.10.2.21 in /usr/local/lib/python3.12/dist-packages (from torch>=2->beat-this==0.1) (9.10.2.21)\n",
            "Requirement already satisfied: nvidia-cublas-cu12==12.6.4.1 in /usr/local/lib/python3.12/dist-packages (from torch>=2->beat-this==0.1) (12.6.4.1)\n",
            "Requirement already satisfied: nvidia-cufft-cu12==11.3.0.4 in /usr/local/lib/python3.12/dist-packages (from torch>=2->beat-this==0.1) (11.3.0.4)\n",
            "Requirement already satisfied: nvidia-curand-cu12==10.3.7.77 in /usr/local/lib/python3.12/dist-packages (from torch>=2->beat-this==0.1) (10.3.7.77)\n",
            "Requirement already satisfied: nvidia-cusolver-cu12==11.7.1.2 in /usr/local/lib/python3.12/dist-packages (from torch>=2->beat-this==0.1) (11.7.1.2)\n",
            "Requirement already satisfied: nvidia-cusparse-cu12==12.5.4.2 in /usr/local/lib/python3.12/dist-packages (from torch>=2->beat-this==0.1) (12.5.4.2)\n",
            "Requirement already satisfied: nvidia-cusparselt-cu12==0.7.1 in /usr/local/lib/python3.12/dist-packages (from torch>=2->beat-this==0.1) (0.7.1)\n",
            "Requirement already satisfied: nvidia-nccl-cu12==2.27.3 in /usr/local/lib/python3.12/dist-packages (from torch>=2->beat-this==0.1) (2.27.3)\n",
            "Requirement already satisfied: nvidia-nvtx-cu12==12.6.77 in /usr/local/lib/python3.12/dist-packages (from torch>=2->beat-this==0.1) (12.6.77)\n",
            "Requirement already satisfied: nvidia-nvjitlink-cu12==12.6.85 in /usr/local/lib/python3.12/dist-packages (from torch>=2->beat-this==0.1) (12.6.85)\n",
            "Requirement already satisfied: nvidia-cufile-cu12==1.11.1.6 in /usr/local/lib/python3.12/dist-packages (from torch>=2->beat-this==0.1) (1.11.1.6)\n",
            "Requirement already satisfied: triton==3.4.0 in /usr/local/lib/python3.12/dist-packages (from torch>=2->beat-this==0.1) (3.4.0)\n",
            "Requirement already satisfied: mpmath<1.4,>=1.1.0 in /usr/local/lib/python3.12/dist-packages (from sympy>=1.13.3->torch>=2->beat-this==0.1) (1.3.0)\n",
            "Requirement already satisfied: MarkupSafe>=2.0 in /usr/local/lib/python3.12/dist-packages (from jinja2->torch>=2->beat-this==0.1) (3.0.2)\n",
            "Downloading rotary_embedding_torch-0.8.9-py3-none-any.whl (5.9 kB)\n",
            "Building wheels for collected packages: beat-this\n",
            "  Building wheel for beat-this (setup.py) ... \u001b[?25l\u001b[?25hdone\n",
            "  Created wheel for beat-this: filename=beat_this-0.1-py3-none-any.whl size=43294 sha256=d7a5a9fc20f89644dcea1138af47ace111afe3d08104c74d309bd9c7f05f6574\n",
            "  Stored in directory: /tmp/pip-ephem-wheel-cache-ubvp07u_/wheels/13/d6/13/719341eac270ad2cc837dd1137b7136c9308e0a136cc1c8fe3\n",
            "Successfully built beat-this\n",
            "Installing collected packages: rotary-embedding-torch, beat-this\n",
            "Successfully installed beat-this-0.1 rotary-embedding-torch-0.8.9\n",
            "Requirement already satisfied: pandas in /usr/local/lib/python3.12/dist-packages (2.2.2)\n",
            "Collecting pedalboard\n",
            "  Downloading pedalboard-0.9.17-cp312-cp312-manylinux_2_17_x86_64.manylinux2014_x86_64.whl.metadata (58 kB)\n",
            "\u001b[2K     \u001b[90m━━━━━━━━━━━━━━━━━━━━━━━━━━━━━━━━━━━━━━━━\u001b[0m \u001b[32m58.0/58.0 kB\u001b[0m \u001b[31m4.1 MB/s\u001b[0m eta \u001b[36m0:00:00\u001b[0m\n",
            "\u001b[?25hRequirement already satisfied: numpy>=1.26.0 in /usr/local/lib/python3.12/dist-packages (from pandas) (2.0.2)\n",
            "Requirement already satisfied: python-dateutil>=2.8.2 in /usr/local/lib/python3.12/dist-packages (from pandas) (2.9.0.post0)\n",
            "Requirement already satisfied: pytz>=2020.1 in /usr/local/lib/python3.12/dist-packages (from pandas) (2025.2)\n",
            "Requirement already satisfied: tzdata>=2022.7 in /usr/local/lib/python3.12/dist-packages (from pandas) (2025.2)\n",
            "Requirement already satisfied: six>=1.5 in /usr/local/lib/python3.12/dist-packages (from python-dateutil>=2.8.2->pandas) (1.17.0)\n",
            "Downloading pedalboard-0.9.17-cp312-cp312-manylinux_2_17_x86_64.manylinux2014_x86_64.whl (4.8 MB)\n",
            "\u001b[2K   \u001b[90m━━━━━━━━━━━━━━━━━━━━━━━━━━━━━━━━━━━━━━━━\u001b[0m \u001b[32m4.8/4.8 MB\u001b[0m \u001b[31m69.1 MB/s\u001b[0m eta \u001b[36m0:00:00\u001b[0m\n",
            "\u001b[?25hInstalling collected packages: pedalboard\n",
            "Successfully installed pedalboard-0.9.17\n",
            "Collecting pytorch_lightning\n",
            "  Downloading pytorch_lightning-2.5.5-py3-none-any.whl.metadata (20 kB)\n",
            "Requirement already satisfied: torch>=2.1.0 in /usr/local/lib/python3.12/dist-packages (from pytorch_lightning) (2.8.0+cu126)\n",
            "Requirement already satisfied: tqdm>=4.57.0 in /usr/local/lib/python3.12/dist-packages (from pytorch_lightning) (4.67.1)\n",
            "Requirement already satisfied: PyYAML>5.4 in /usr/local/lib/python3.12/dist-packages (from pytorch_lightning) (6.0.2)\n",
            "Requirement already satisfied: fsspec>=2022.5.0 in /usr/local/lib/python3.12/dist-packages (from fsspec[http]>=2022.5.0->pytorch_lightning) (2025.3.0)\n",
            "Collecting torchmetrics>0.7.0 (from pytorch_lightning)\n",
            "  Downloading torchmetrics-1.8.2-py3-none-any.whl.metadata (22 kB)\n",
            "Requirement already satisfied: packaging>=20.0 in /usr/local/lib/python3.12/dist-packages (from pytorch_lightning) (25.0)\n",
            "Requirement already satisfied: typing-extensions>4.5.0 in /usr/local/lib/python3.12/dist-packages (from pytorch_lightning) (4.15.0)\n",
            "Collecting lightning-utilities>=0.10.0 (from pytorch_lightning)\n",
            "  Downloading lightning_utilities-0.15.2-py3-none-any.whl.metadata (5.7 kB)\n",
            "Requirement already satisfied: aiohttp!=4.0.0a0,!=4.0.0a1 in /usr/local/lib/python3.12/dist-packages (from fsspec[http]>=2022.5.0->pytorch_lightning) (3.12.15)\n",
            "Requirement already satisfied: setuptools in /usr/local/lib/python3.12/dist-packages (from lightning-utilities>=0.10.0->pytorch_lightning) (75.2.0)\n",
            "Requirement already satisfied: filelock in /usr/local/lib/python3.12/dist-packages (from torch>=2.1.0->pytorch_lightning) (3.19.1)\n",
            "Requirement already satisfied: sympy>=1.13.3 in /usr/local/lib/python3.12/dist-packages (from torch>=2.1.0->pytorch_lightning) (1.13.3)\n",
            "Requirement already satisfied: networkx in /usr/local/lib/python3.12/dist-packages (from torch>=2.1.0->pytorch_lightning) (3.5)\n",
            "Requirement already satisfied: jinja2 in /usr/local/lib/python3.12/dist-packages (from torch>=2.1.0->pytorch_lightning) (3.1.6)\n",
            "Requirement already satisfied: nvidia-cuda-nvrtc-cu12==12.6.77 in /usr/local/lib/python3.12/dist-packages (from torch>=2.1.0->pytorch_lightning) (12.6.77)\n",
            "Requirement already satisfied: nvidia-cuda-runtime-cu12==12.6.77 in /usr/local/lib/python3.12/dist-packages (from torch>=2.1.0->pytorch_lightning) (12.6.77)\n",
            "Requirement already satisfied: nvidia-cuda-cupti-cu12==12.6.80 in /usr/local/lib/python3.12/dist-packages (from torch>=2.1.0->pytorch_lightning) (12.6.80)\n",
            "Requirement already satisfied: nvidia-cudnn-cu12==9.10.2.21 in /usr/local/lib/python3.12/dist-packages (from torch>=2.1.0->pytorch_lightning) (9.10.2.21)\n",
            "Requirement already satisfied: nvidia-cublas-cu12==12.6.4.1 in /usr/local/lib/python3.12/dist-packages (from torch>=2.1.0->pytorch_lightning) (12.6.4.1)\n",
            "Requirement already satisfied: nvidia-cufft-cu12==11.3.0.4 in /usr/local/lib/python3.12/dist-packages (from torch>=2.1.0->pytorch_lightning) (11.3.0.4)\n",
            "Requirement already satisfied: nvidia-curand-cu12==10.3.7.77 in /usr/local/lib/python3.12/dist-packages (from torch>=2.1.0->pytorch_lightning) (10.3.7.77)\n",
            "Requirement already satisfied: nvidia-cusolver-cu12==11.7.1.2 in /usr/local/lib/python3.12/dist-packages (from torch>=2.1.0->pytorch_lightning) (11.7.1.2)\n",
            "Requirement already satisfied: nvidia-cusparse-cu12==12.5.4.2 in /usr/local/lib/python3.12/dist-packages (from torch>=2.1.0->pytorch_lightning) (12.5.4.2)\n",
            "Requirement already satisfied: nvidia-cusparselt-cu12==0.7.1 in /usr/local/lib/python3.12/dist-packages (from torch>=2.1.0->pytorch_lightning) (0.7.1)\n",
            "Requirement already satisfied: nvidia-nccl-cu12==2.27.3 in /usr/local/lib/python3.12/dist-packages (from torch>=2.1.0->pytorch_lightning) (2.27.3)\n",
            "Requirement already satisfied: nvidia-nvtx-cu12==12.6.77 in /usr/local/lib/python3.12/dist-packages (from torch>=2.1.0->pytorch_lightning) (12.6.77)\n",
            "Requirement already satisfied: nvidia-nvjitlink-cu12==12.6.85 in /usr/local/lib/python3.12/dist-packages (from torch>=2.1.0->pytorch_lightning) (12.6.85)\n",
            "Requirement already satisfied: nvidia-cufile-cu12==1.11.1.6 in /usr/local/lib/python3.12/dist-packages (from torch>=2.1.0->pytorch_lightning) (1.11.1.6)\n",
            "Requirement already satisfied: triton==3.4.0 in /usr/local/lib/python3.12/dist-packages (from torch>=2.1.0->pytorch_lightning) (3.4.0)\n",
            "Requirement already satisfied: numpy>1.20.0 in /usr/local/lib/python3.12/dist-packages (from torchmetrics>0.7.0->pytorch_lightning) (2.0.2)\n",
            "Requirement already satisfied: aiohappyeyeballs>=2.5.0 in /usr/local/lib/python3.12/dist-packages (from aiohttp!=4.0.0a0,!=4.0.0a1->fsspec[http]>=2022.5.0->pytorch_lightning) (2.6.1)\n",
            "Requirement already satisfied: aiosignal>=1.4.0 in /usr/local/lib/python3.12/dist-packages (from aiohttp!=4.0.0a0,!=4.0.0a1->fsspec[http]>=2022.5.0->pytorch_lightning) (1.4.0)\n",
            "Requirement already satisfied: attrs>=17.3.0 in /usr/local/lib/python3.12/dist-packages (from aiohttp!=4.0.0a0,!=4.0.0a1->fsspec[http]>=2022.5.0->pytorch_lightning) (25.3.0)\n",
            "Requirement already satisfied: frozenlist>=1.1.1 in /usr/local/lib/python3.12/dist-packages (from aiohttp!=4.0.0a0,!=4.0.0a1->fsspec[http]>=2022.5.0->pytorch_lightning) (1.7.0)\n",
            "Requirement already satisfied: multidict<7.0,>=4.5 in /usr/local/lib/python3.12/dist-packages (from aiohttp!=4.0.0a0,!=4.0.0a1->fsspec[http]>=2022.5.0->pytorch_lightning) (6.6.4)\n",
            "Requirement already satisfied: propcache>=0.2.0 in /usr/local/lib/python3.12/dist-packages (from aiohttp!=4.0.0a0,!=4.0.0a1->fsspec[http]>=2022.5.0->pytorch_lightning) (0.3.2)\n",
            "Requirement already satisfied: yarl<2.0,>=1.17.0 in /usr/local/lib/python3.12/dist-packages (from aiohttp!=4.0.0a0,!=4.0.0a1->fsspec[http]>=2022.5.0->pytorch_lightning) (1.20.1)\n",
            "Requirement already satisfied: mpmath<1.4,>=1.1.0 in /usr/local/lib/python3.12/dist-packages (from sympy>=1.13.3->torch>=2.1.0->pytorch_lightning) (1.3.0)\n",
            "Requirement already satisfied: MarkupSafe>=2.0 in /usr/local/lib/python3.12/dist-packages (from jinja2->torch>=2.1.0->pytorch_lightning) (3.0.2)\n",
            "Requirement already satisfied: idna>=2.0 in /usr/local/lib/python3.12/dist-packages (from yarl<2.0,>=1.17.0->aiohttp!=4.0.0a0,!=4.0.0a1->fsspec[http]>=2022.5.0->pytorch_lightning) (3.10)\n",
            "Downloading pytorch_lightning-2.5.5-py3-none-any.whl (832 kB)\n",
            "\u001b[2K   \u001b[90m━━━━━━━━━━━━━━━━━━━━━━━━━━━━━━━━━━━━━━━━\u001b[0m \u001b[32m832.4/832.4 kB\u001b[0m \u001b[31m45.4 MB/s\u001b[0m eta \u001b[36m0:00:00\u001b[0m\n",
            "\u001b[?25hDownloading lightning_utilities-0.15.2-py3-none-any.whl (29 kB)\n",
            "Downloading torchmetrics-1.8.2-py3-none-any.whl (983 kB)\n",
            "\u001b[2K   \u001b[90m━━━━━━━━━━━━━━━━━━━━━━━━━━━━━━━━━━━━━━━━\u001b[0m \u001b[32m983.2/983.2 kB\u001b[0m \u001b[31m52.8 MB/s\u001b[0m eta \u001b[36m0:00:00\u001b[0m\n",
            "\u001b[?25hInstalling collected packages: lightning-utilities, torchmetrics, pytorch_lightning\n",
            "Successfully installed lightning-utilities-0.15.2 pytorch_lightning-2.5.5 torchmetrics-1.8.2\n",
            "Collecting git+https://github.com/mir-dataset-loaders/mirdata.git\n",
            "  Cloning https://github.com/mir-dataset-loaders/mirdata.git to /tmp/pip-req-build-qs67ze3c\n",
            "  Running command git clone --filter=blob:none --quiet https://github.com/mir-dataset-loaders/mirdata.git /tmp/pip-req-build-qs67ze3c\n",
            "  Resolved https://github.com/mir-dataset-loaders/mirdata.git to commit d3a92876cfa85c4ecd92348f44b393c345be9b2d\n",
            "  Installing build dependencies ... \u001b[?25l\u001b[?25hdone\n",
            "  Getting requirements to build wheel ... \u001b[?25l\u001b[?25hdone\n",
            "  Preparing metadata (pyproject.toml) ... \u001b[?25l\u001b[?25hdone\n",
            "Requirement already satisfied: chardet>=5.0.0 in /usr/local/lib/python3.12/dist-packages (from mirdata==1.0.0rc1) (5.2.0)\n",
            "Collecting Deprecated>=1.2.14 (from mirdata==1.0.0rc1)\n",
            "  Downloading Deprecated-1.2.18-py2.py3-none-any.whl.metadata (5.7 kB)\n",
            "Requirement already satisfied: h5py>=3.7.0 in /usr/local/lib/python3.12/dist-packages (from mirdata==1.0.0rc1) (3.14.0)\n",
            "Requirement already satisfied: librosa>=0.10.1 in /usr/local/lib/python3.12/dist-packages (from mirdata==1.0.0rc1) (0.11.0)\n",
            "Requirement already satisfied: numpy>=1.21.6 in /usr/local/lib/python3.12/dist-packages (from mirdata==1.0.0rc1) (2.0.2)\n",
            "Requirement already satisfied: pandas>=1.3.5 in /usr/local/lib/python3.12/dist-packages (from mirdata==1.0.0rc1) (2.2.2)\n",
            "Collecting pretty_midi>=0.2.10 (from mirdata==1.0.0rc1)\n",
            "  Downloading pretty_midi-0.2.10.tar.gz (5.6 MB)\n",
            "\u001b[2K     \u001b[90m━━━━━━━━━━━━━━━━━━━━━━━━━━━━━━━━━━━━━━━━\u001b[0m \u001b[32m5.6/5.6 MB\u001b[0m \u001b[31m55.2 MB/s\u001b[0m eta \u001b[36m0:00:00\u001b[0m\n",
            "\u001b[?25h  Preparing metadata (setup.py) ... \u001b[?25l\u001b[?25hdone\n",
            "Requirement already satisfied: pyyaml>=6.0 in /usr/local/lib/python3.12/dist-packages (from mirdata==1.0.0rc1) (6.0.2)\n",
            "Requirement already satisfied: openpyxl>=3.0.10 in /usr/local/lib/python3.12/dist-packages (from mirdata==1.0.0rc1) (3.1.5)\n",
            "Requirement already satisfied: scipy>=1.7.3 in /usr/local/lib/python3.12/dist-packages (from mirdata==1.0.0rc1) (1.16.1)\n",
            "Requirement already satisfied: tqdm>=4.66.1 in /usr/local/lib/python3.12/dist-packages (from mirdata==1.0.0rc1) (4.67.1)\n",
            "Requirement already satisfied: smart_open>=5.0.0 in /usr/local/lib/python3.12/dist-packages (from smart_open[all]>=5.0.0->mirdata==1.0.0rc1) (7.3.0.post1)\n",
            "Requirement already satisfied: wrapt<2,>=1.10 in /usr/local/lib/python3.12/dist-packages (from Deprecated>=1.2.14->mirdata==1.0.0rc1) (1.17.3)\n",
            "Requirement already satisfied: audioread>=2.1.9 in /usr/local/lib/python3.12/dist-packages (from librosa>=0.10.1->mirdata==1.0.0rc1) (3.0.1)\n",
            "Requirement already satisfied: numba>=0.51.0 in /usr/local/lib/python3.12/dist-packages (from librosa>=0.10.1->mirdata==1.0.0rc1) (0.60.0)\n",
            "Requirement already satisfied: scikit-learn>=1.1.0 in /usr/local/lib/python3.12/dist-packages (from librosa>=0.10.1->mirdata==1.0.0rc1) (1.6.1)\n",
            "Requirement already satisfied: joblib>=1.0 in /usr/local/lib/python3.12/dist-packages (from librosa>=0.10.1->mirdata==1.0.0rc1) (1.5.2)\n",
            "Requirement already satisfied: decorator>=4.3.0 in /usr/local/lib/python3.12/dist-packages (from librosa>=0.10.1->mirdata==1.0.0rc1) (4.4.2)\n",
            "Requirement already satisfied: soundfile>=0.12.1 in /usr/local/lib/python3.12/dist-packages (from librosa>=0.10.1->mirdata==1.0.0rc1) (0.13.1)\n",
            "Requirement already satisfied: pooch>=1.1 in /usr/local/lib/python3.12/dist-packages (from librosa>=0.10.1->mirdata==1.0.0rc1) (1.8.2)\n",
            "Requirement already satisfied: soxr>=0.3.2 in /usr/local/lib/python3.12/dist-packages (from librosa>=0.10.1->mirdata==1.0.0rc1) (0.5.0.post1)\n",
            "Requirement already satisfied: typing_extensions>=4.1.1 in /usr/local/lib/python3.12/dist-packages (from librosa>=0.10.1->mirdata==1.0.0rc1) (4.15.0)\n",
            "Requirement already satisfied: lazy_loader>=0.1 in /usr/local/lib/python3.12/dist-packages (from librosa>=0.10.1->mirdata==1.0.0rc1) (0.4)\n",
            "Requirement already satisfied: msgpack>=1.0 in /usr/local/lib/python3.12/dist-packages (from librosa>=0.10.1->mirdata==1.0.0rc1) (1.1.1)\n",
            "Requirement already satisfied: et-xmlfile in /usr/local/lib/python3.12/dist-packages (from openpyxl>=3.0.10->mirdata==1.0.0rc1) (2.0.0)\n",
            "Requirement already satisfied: python-dateutil>=2.8.2 in /usr/local/lib/python3.12/dist-packages (from pandas>=1.3.5->mirdata==1.0.0rc1) (2.9.0.post0)\n",
            "Requirement already satisfied: pytz>=2020.1 in /usr/local/lib/python3.12/dist-packages (from pandas>=1.3.5->mirdata==1.0.0rc1) (2025.2)\n",
            "Requirement already satisfied: tzdata>=2022.7 in /usr/local/lib/python3.12/dist-packages (from pandas>=1.3.5->mirdata==1.0.0rc1) (2025.2)\n",
            "Collecting mido>=1.1.16 (from pretty_midi>=0.2.10->mirdata==1.0.0rc1)\n",
            "  Downloading mido-1.3.3-py3-none-any.whl.metadata (6.4 kB)\n",
            "Requirement already satisfied: six in /usr/local/lib/python3.12/dist-packages (from pretty_midi>=0.2.10->mirdata==1.0.0rc1) (1.17.0)\n",
            "Requirement already satisfied: packaging in /usr/local/lib/python3.12/dist-packages (from lazy_loader>=0.1->librosa>=0.10.1->mirdata==1.0.0rc1) (25.0)\n",
            "Requirement already satisfied: llvmlite<0.44,>=0.43.0dev0 in /usr/local/lib/python3.12/dist-packages (from numba>=0.51.0->librosa>=0.10.1->mirdata==1.0.0rc1) (0.43.0)\n",
            "Requirement already satisfied: platformdirs>=2.5.0 in /usr/local/lib/python3.12/dist-packages (from pooch>=1.1->librosa>=0.10.1->mirdata==1.0.0rc1) (4.4.0)\n",
            "Requirement already satisfied: requests>=2.19.0 in /usr/local/lib/python3.12/dist-packages (from pooch>=1.1->librosa>=0.10.1->mirdata==1.0.0rc1) (2.32.4)\n",
            "Requirement already satisfied: threadpoolctl>=3.1.0 in /usr/local/lib/python3.12/dist-packages (from scikit-learn>=1.1.0->librosa>=0.10.1->mirdata==1.0.0rc1) (3.6.0)\n",
            "Requirement already satisfied: cffi>=1.0 in /usr/local/lib/python3.12/dist-packages (from soundfile>=0.12.1->librosa>=0.10.1->mirdata==1.0.0rc1) (1.17.1)\n",
            "Collecting boto3 (from smart_open>=5.0.0->smart_open[all]>=5.0.0->mirdata==1.0.0rc1)\n",
            "  Downloading boto3-1.40.25-py3-none-any.whl.metadata (6.7 kB)\n",
            "Requirement already satisfied: google-cloud-storage>=2.6.0 in /usr/local/lib/python3.12/dist-packages (from smart_open>=5.0.0->smart_open[all]>=5.0.0->mirdata==1.0.0rc1) (2.19.0)\n",
            "Collecting azure-storage-blob (from smart_open>=5.0.0->smart_open[all]>=5.0.0->mirdata==1.0.0rc1)\n",
            "  Downloading azure_storage_blob-12.26.0-py3-none-any.whl.metadata (26 kB)\n",
            "Collecting azure-common (from smart_open>=5.0.0->smart_open[all]>=5.0.0->mirdata==1.0.0rc1)\n",
            "  Downloading azure_common-1.1.28-py2.py3-none-any.whl.metadata (5.0 kB)\n",
            "Collecting azure-core (from smart_open>=5.0.0->smart_open[all]>=5.0.0->mirdata==1.0.0rc1)\n",
            "  Downloading azure_core-1.35.0-py3-none-any.whl.metadata (44 kB)\n",
            "\u001b[2K     \u001b[90m━━━━━━━━━━━━━━━━━━━━━━━━━━━━━━━━━━━━━━━━\u001b[0m \u001b[32m44.4/44.4 kB\u001b[0m \u001b[31m3.5 MB/s\u001b[0m eta \u001b[36m0:00:00\u001b[0m\n",
            "\u001b[?25hCollecting paramiko (from smart_open>=5.0.0->smart_open[all]>=5.0.0->mirdata==1.0.0rc1)\n",
            "  Downloading paramiko-4.0.0-py3-none-any.whl.metadata (3.9 kB)\n",
            "Requirement already satisfied: zstandard in /usr/local/lib/python3.12/dist-packages (from smart_open>=5.0.0->smart_open[all]>=5.0.0->mirdata==1.0.0rc1) (0.24.0)\n",
            "Requirement already satisfied: pycparser in /usr/local/lib/python3.12/dist-packages (from cffi>=1.0->soundfile>=0.12.1->librosa>=0.10.1->mirdata==1.0.0rc1) (2.22)\n",
            "Requirement already satisfied: google-auth<3.0dev,>=2.26.1 in /usr/local/lib/python3.12/dist-packages (from google-cloud-storage>=2.6.0->smart_open>=5.0.0->smart_open[all]>=5.0.0->mirdata==1.0.0rc1) (2.38.0)\n",
            "Requirement already satisfied: google-api-core<3.0.0dev,>=2.15.0 in /usr/local/lib/python3.12/dist-packages (from google-cloud-storage>=2.6.0->smart_open>=5.0.0->smart_open[all]>=5.0.0->mirdata==1.0.0rc1) (2.25.1)\n",
            "Requirement already satisfied: google-cloud-core<3.0dev,>=2.3.0 in /usr/local/lib/python3.12/dist-packages (from google-cloud-storage>=2.6.0->smart_open>=5.0.0->smart_open[all]>=5.0.0->mirdata==1.0.0rc1) (2.4.3)\n",
            "Requirement already satisfied: google-resumable-media>=2.7.2 in /usr/local/lib/python3.12/dist-packages (from google-cloud-storage>=2.6.0->smart_open>=5.0.0->smart_open[all]>=5.0.0->mirdata==1.0.0rc1) (2.7.2)\n",
            "Requirement already satisfied: google-crc32c<2.0dev,>=1.0 in /usr/local/lib/python3.12/dist-packages (from google-cloud-storage>=2.6.0->smart_open>=5.0.0->smart_open[all]>=5.0.0->mirdata==1.0.0rc1) (1.7.1)\n",
            "Requirement already satisfied: charset_normalizer<4,>=2 in /usr/local/lib/python3.12/dist-packages (from requests>=2.19.0->pooch>=1.1->librosa>=0.10.1->mirdata==1.0.0rc1) (3.4.3)\n",
            "Requirement already satisfied: idna<4,>=2.5 in /usr/local/lib/python3.12/dist-packages (from requests>=2.19.0->pooch>=1.1->librosa>=0.10.1->mirdata==1.0.0rc1) (3.10)\n",
            "Requirement already satisfied: urllib3<3,>=1.21.1 in /usr/local/lib/python3.12/dist-packages (from requests>=2.19.0->pooch>=1.1->librosa>=0.10.1->mirdata==1.0.0rc1) (2.5.0)\n",
            "Requirement already satisfied: certifi>=2017.4.17 in /usr/local/lib/python3.12/dist-packages (from requests>=2.19.0->pooch>=1.1->librosa>=0.10.1->mirdata==1.0.0rc1) (2025.8.3)\n",
            "Requirement already satisfied: cryptography>=2.1.4 in /usr/local/lib/python3.12/dist-packages (from azure-storage-blob->smart_open>=5.0.0->smart_open[all]>=5.0.0->mirdata==1.0.0rc1) (43.0.3)\n",
            "Collecting isodate>=0.6.1 (from azure-storage-blob->smart_open>=5.0.0->smart_open[all]>=5.0.0->mirdata==1.0.0rc1)\n",
            "  Downloading isodate-0.7.2-py3-none-any.whl.metadata (11 kB)\n",
            "Collecting botocore<1.41.0,>=1.40.25 (from boto3->smart_open>=5.0.0->smart_open[all]>=5.0.0->mirdata==1.0.0rc1)\n",
            "  Downloading botocore-1.40.25-py3-none-any.whl.metadata (5.7 kB)\n",
            "Collecting jmespath<2.0.0,>=0.7.1 (from boto3->smart_open>=5.0.0->smart_open[all]>=5.0.0->mirdata==1.0.0rc1)\n",
            "  Downloading jmespath-1.0.1-py3-none-any.whl.metadata (7.6 kB)\n",
            "Collecting s3transfer<0.14.0,>=0.13.0 (from boto3->smart_open>=5.0.0->smart_open[all]>=5.0.0->mirdata==1.0.0rc1)\n",
            "  Downloading s3transfer-0.13.1-py3-none-any.whl.metadata (1.7 kB)\n",
            "Collecting bcrypt>=3.2 (from paramiko->smart_open>=5.0.0->smart_open[all]>=5.0.0->mirdata==1.0.0rc1)\n",
            "  Downloading bcrypt-4.3.0-cp39-abi3-manylinux_2_34_x86_64.whl.metadata (10 kB)\n",
            "Collecting invoke>=2.0 (from paramiko->smart_open>=5.0.0->smart_open[all]>=5.0.0->mirdata==1.0.0rc1)\n",
            "  Downloading invoke-2.2.0-py3-none-any.whl.metadata (3.3 kB)\n",
            "Collecting pynacl>=1.5 (from paramiko->smart_open>=5.0.0->smart_open[all]>=5.0.0->mirdata==1.0.0rc1)\n",
            "  Downloading PyNaCl-1.5.0-cp36-abi3-manylinux_2_17_x86_64.manylinux2014_x86_64.manylinux_2_24_x86_64.whl.metadata (8.6 kB)\n",
            "Requirement already satisfied: googleapis-common-protos<2.0.0,>=1.56.2 in /usr/local/lib/python3.12/dist-packages (from google-api-core<3.0.0dev,>=2.15.0->google-cloud-storage>=2.6.0->smart_open>=5.0.0->smart_open[all]>=5.0.0->mirdata==1.0.0rc1) (1.70.0)\n",
            "Requirement already satisfied: protobuf!=3.20.0,!=3.20.1,!=4.21.0,!=4.21.1,!=4.21.2,!=4.21.3,!=4.21.4,!=4.21.5,<7.0.0,>=3.19.5 in /usr/local/lib/python3.12/dist-packages (from google-api-core<3.0.0dev,>=2.15.0->google-cloud-storage>=2.6.0->smart_open>=5.0.0->smart_open[all]>=5.0.0->mirdata==1.0.0rc1) (5.29.5)\n",
            "Requirement already satisfied: proto-plus<2.0.0,>=1.22.3 in /usr/local/lib/python3.12/dist-packages (from google-api-core<3.0.0dev,>=2.15.0->google-cloud-storage>=2.6.0->smart_open>=5.0.0->smart_open[all]>=5.0.0->mirdata==1.0.0rc1) (1.26.1)\n",
            "Requirement already satisfied: cachetools<6.0,>=2.0.0 in /usr/local/lib/python3.12/dist-packages (from google-auth<3.0dev,>=2.26.1->google-cloud-storage>=2.6.0->smart_open>=5.0.0->smart_open[all]>=5.0.0->mirdata==1.0.0rc1) (5.5.2)\n",
            "Requirement already satisfied: pyasn1-modules>=0.2.1 in /usr/local/lib/python3.12/dist-packages (from google-auth<3.0dev,>=2.26.1->google-cloud-storage>=2.6.0->smart_open>=5.0.0->smart_open[all]>=5.0.0->mirdata==1.0.0rc1) (0.4.2)\n",
            "Requirement already satisfied: rsa<5,>=3.1.4 in /usr/local/lib/python3.12/dist-packages (from google-auth<3.0dev,>=2.26.1->google-cloud-storage>=2.6.0->smart_open>=5.0.0->smart_open[all]>=5.0.0->mirdata==1.0.0rc1) (4.9.1)\n",
            "Requirement already satisfied: pyasn1<0.7.0,>=0.6.1 in /usr/local/lib/python3.12/dist-packages (from pyasn1-modules>=0.2.1->google-auth<3.0dev,>=2.26.1->google-cloud-storage>=2.6.0->smart_open>=5.0.0->smart_open[all]>=5.0.0->mirdata==1.0.0rc1) (0.6.1)\n",
            "Downloading Deprecated-1.2.18-py2.py3-none-any.whl (10.0 kB)\n",
            "Downloading mido-1.3.3-py3-none-any.whl (54 kB)\n",
            "\u001b[2K   \u001b[90m━━━━━━━━━━━━━━━━━━━━━━━━━━━━━━━━━━━━━━━━\u001b[0m \u001b[32m54.6/54.6 kB\u001b[0m \u001b[31m4.4 MB/s\u001b[0m eta \u001b[36m0:00:00\u001b[0m\n",
            "\u001b[?25hDownloading azure_common-1.1.28-py2.py3-none-any.whl (14 kB)\n",
            "Downloading azure_core-1.35.0-py3-none-any.whl (210 kB)\n",
            "\u001b[2K   \u001b[90m━━━━━━━━━━━━━━━━━━━━━━━━━━━━━━━━━━━━━━━━\u001b[0m \u001b[32m210.7/210.7 kB\u001b[0m \u001b[31m18.9 MB/s\u001b[0m eta \u001b[36m0:00:00\u001b[0m\n",
            "\u001b[?25hDownloading azure_storage_blob-12.26.0-py3-none-any.whl (412 kB)\n",
            "\u001b[2K   \u001b[90m━━━━━━━━━━━━━━━━━━━━━━━━━━━━━━━━━━━━━━━━\u001b[0m \u001b[32m412.9/412.9 kB\u001b[0m \u001b[31m31.6 MB/s\u001b[0m eta \u001b[36m0:00:00\u001b[0m\n",
            "\u001b[?25hDownloading boto3-1.40.25-py3-none-any.whl (139 kB)\n",
            "\u001b[2K   \u001b[90m━━━━━━━━━━━━━━━━━━━━━━━━━━━━━━━━━━━━━━━━\u001b[0m \u001b[32m139.3/139.3 kB\u001b[0m \u001b[31m11.2 MB/s\u001b[0m eta \u001b[36m0:00:00\u001b[0m\n",
            "\u001b[?25hDownloading paramiko-4.0.0-py3-none-any.whl (223 kB)\n",
            "\u001b[2K   \u001b[90m━━━━━━━━━━━━━━━━━━━━━━━━━━━━━━━━━━━━━━━━\u001b[0m \u001b[32m223.9/223.9 kB\u001b[0m \u001b[31m18.6 MB/s\u001b[0m eta \u001b[36m0:00:00\u001b[0m\n",
            "\u001b[?25hDownloading bcrypt-4.3.0-cp39-abi3-manylinux_2_34_x86_64.whl (284 kB)\n",
            "\u001b[2K   \u001b[90m━━━━━━━━━━━━━━━━━━━━━━━━━━━━━━━━━━━━━━━━\u001b[0m \u001b[32m284.2/284.2 kB\u001b[0m \u001b[31m24.7 MB/s\u001b[0m eta \u001b[36m0:00:00\u001b[0m\n",
            "\u001b[?25hDownloading botocore-1.40.25-py3-none-any.whl (14.0 MB)\n",
            "\u001b[2K   \u001b[90m━━━━━━━━━━━━━━━━━━━━━━━━━━━━━━━━━━━━━━━━\u001b[0m \u001b[32m14.0/14.0 MB\u001b[0m \u001b[31m106.5 MB/s\u001b[0m eta \u001b[36m0:00:00\u001b[0m\n",
            "\u001b[?25hDownloading invoke-2.2.0-py3-none-any.whl (160 kB)\n",
            "\u001b[2K   \u001b[90m━━━━━━━━━━━━━━━━━━━━━━━━━━━━━━━━━━━━━━━━\u001b[0m \u001b[32m160.3/160.3 kB\u001b[0m \u001b[31m13.8 MB/s\u001b[0m eta \u001b[36m0:00:00\u001b[0m\n",
            "\u001b[?25hDownloading isodate-0.7.2-py3-none-any.whl (22 kB)\n",
            "Downloading jmespath-1.0.1-py3-none-any.whl (20 kB)\n",
            "Downloading PyNaCl-1.5.0-cp36-abi3-manylinux_2_17_x86_64.manylinux2014_x86_64.manylinux_2_24_x86_64.whl (856 kB)\n",
            "\u001b[2K   \u001b[90m━━━━━━━━━━━━━━━━━━━━━━━━━━━━━━━━━━━━━━━━\u001b[0m \u001b[32m856.7/856.7 kB\u001b[0m \u001b[31m56.9 MB/s\u001b[0m eta \u001b[36m0:00:00\u001b[0m\n",
            "\u001b[?25hDownloading s3transfer-0.13.1-py3-none-any.whl (85 kB)\n",
            "\u001b[2K   \u001b[90m━━━━━━━━━━━━━━━━━━━━━━━━━━━━━━━━━━━━━━━━\u001b[0m \u001b[32m85.3/85.3 kB\u001b[0m \u001b[31m7.3 MB/s\u001b[0m eta \u001b[36m0:00:00\u001b[0m\n",
            "\u001b[?25hBuilding wheels for collected packages: mirdata, pretty_midi\n",
            "  Building wheel for mirdata (pyproject.toml) ... \u001b[?25l\u001b[?25hdone\n",
            "  Created wheel for mirdata: filename=mirdata-1.0.0rc1-py3-none-any.whl size=257993 sha256=38acc16d40e5d5857eff374dedb5c1dda9119eaf0b5e5ef4fe756c208ec129ed\n",
            "  Stored in directory: /tmp/pip-ephem-wheel-cache-5n9n0o5e/wheels/88/1d/bb/12ba054062bbe62a146513ed6a78452fc316f3c7ff15b7b724\n",
            "  Building wheel for pretty_midi (setup.py) ... \u001b[?25l\u001b[?25hdone\n",
            "  Created wheel for pretty_midi: filename=pretty_midi-0.2.10-py3-none-any.whl size=5592286 sha256=270d7de7f863b64a12f6e6dfd61ef83cfddee7d4c60904aaa3e2a3c210aca17d\n",
            "  Stored in directory: /root/.cache/pip/wheels/a4/f9/9e/08350c27e386558df0ae234e28a8facd145ba45506ddd1b989\n",
            "Successfully built mirdata pretty_midi\n",
            "Installing collected packages: azure-common, mido, jmespath, isodate, invoke, Deprecated, bcrypt, pynacl, pretty_midi, botocore, azure-core, s3transfer, paramiko, azure-storage-blob, boto3, mirdata\n",
            "Successfully installed Deprecated-1.2.18 azure-common-1.1.28 azure-core-1.35.0 azure-storage-blob-12.26.0 bcrypt-4.3.0 boto3-1.40.25 botocore-1.40.25 invoke-2.2.0 isodate-0.7.2 jmespath-1.0.1 mido-1.3.3 mirdata-1.0.0rc1 paramiko-4.0.0 pretty_midi-0.2.10 pynacl-1.5.0 s3transfer-0.13.1\n"
          ]
        }
      ],
      "source": [
        "!pip install git+https://github.com/satyajeetprabhu/beat-this-carnatic.git\n",
        "!pip install pandas pedalboard\n",
        "!pip install pytorch_lightning\n",
        "!pip install git+https://github.com/mir-dataset-loaders/mirdata.git"
      ]
    },
    {
      "cell_type": "code",
      "execution_count": 3,
      "metadata": {
        "id": "9UzYMiiIqX59"
      },
      "outputs": [],
      "source": [
        "import os\n",
        "import pandas as pd\n",
        "import shutil\n",
        "from carn_utils.carn_dataloader import copy_by_fold\n",
        "from carn_utils.split_utils import carn_split_keys, export_split_tsv\n"
      ]
    },
    {
      "cell_type": "code",
      "execution_count": 4,
      "metadata": {
        "id": "5APMZezRqX59"
      },
      "outputs": [],
      "source": [
        "# Run the function with your parameters\n",
        "dataset_path = '/content/drive/MyDrive/Datasets/CMR'\n",
        "\n",
        "output_dir = '/content/drive/MyDrive/Beat_This_CMR'\n",
        "os.makedirs(output_dir, exist_ok=True)"
      ]
    },
    {
      "cell_type": "code",
      "execution_count": 5,
      "metadata": {
        "colab": {
          "base_uri": "https://localhost:8080/"
        },
        "id": "mfor0Ll0qX59",
        "outputId": "32cf7eee-c2f3-4690-eb66-c52a22385c99"
      },
      "outputs": [
        {
          "output_type": "stream",
          "name": "stdout",
          "text": [
            "/content/drive/MyDrive/Beat_This_CMR\n",
            "Cloning into 'beat-this-carnatic'...\n",
            "remote: Enumerating objects: 1326, done.\u001b[K\n",
            "remote: Counting objects: 100% (331/331), done.\u001b[K\n",
            "remote: Compressing objects: 100% (101/101), done.\u001b[K\n",
            "remote: Total 1326 (delta 273), reused 265 (delta 226), pack-reused 995 (from 2)\u001b[K\n",
            "Receiving objects: 100% (1326/1326), 82.18 MiB | 10.06 MiB/s, done.\n",
            "Resolving deltas: 100% (884/884), done.\n",
            "Updating files: 100% (35/35), done.\n"
          ]
        }
      ],
      "source": [
        "%cd {output_dir}\n",
        "!git clone https://github.com/satyajeetprabhu/beat-this-carnatic.git beat-this-carnatic/"
      ]
    },
    {
      "cell_type": "markdown",
      "metadata": {
        "id": "uhUisOp2qX59"
      },
      "source": [
        "## Carnatic Dataloader"
      ]
    },
    {
      "cell_type": "code",
      "source": [
        "cd beat-this-carnatic/"
      ],
      "metadata": {
        "colab": {
          "base_uri": "https://localhost:8080/"
        },
        "id": "LT6P39sJyN0e",
        "outputId": "18cca781-2a2c-41a1-8513-f11d5c36f3f6"
      },
      "execution_count": 13,
      "outputs": [
        {
          "output_type": "stream",
          "name": "stdout",
          "text": [
            "/content/drive/MyDrive/Beat_This_CMR/beat-this-carnatic\n"
          ]
        }
      ]
    },
    {
      "cell_type": "code",
      "execution_count": 14,
      "metadata": {
        "colab": {
          "base_uri": "https://localhost:8080/"
        },
        "id": "y4G0N7X_qX59",
        "outputId": "0a076e2b-8238-4b93-aa43-5608aef17a90"
      },
      "outputs": [
        {
          "output_type": "stream",
          "name": "stderr",
          "text": [
            "WARNING:root:Downloading ['index']. Index is being stored in /usr/local/lib/python3.12/dist-packages/mirdata/datasets/indexes\n",
            "WARNING:root:[index] downloading compmusic_carnatic_rhythm_full_index_1.0.json\n",
            "WARNING:root:/usr/local/lib/python3.12/dist-packages/mirdata/datasets/indexes/compmusic_carnatic_rhythm_full_index_1.0.json already exists and will not be downloaded. Rerun with force_overwrite=True to delete this file and force the download.\n",
            "WARNING:root:The files of this dataset are shared under request. Please go to: https://zenodo.org/record/1264394 and request access, stating\n",
            "    the research-related use you will give to the dataset. Once the access is granted (it may take, at most, one day or two), please download \n",
            "    the dataset with the provided Zenodo link and uncompress the two zip files: CMR_full_dataset_1.0.zip and CMR_subset_1.0.zip. You don't need \n",
            "    to re-arrange or change the folder structure of these two versions, the dataloader is designed to work with the provided file organization. \n",
            "    Therefore, simply uncompress and store the datasets to a desired location, and use such location to initialize the dataset as follows: \n",
            "    \n",
            "    compmusic_carnatic_rhythm = mirdata.initialize(\"compmusic_carnatic_rhythm\", data_home=\"/path/to/home/folder/of/dataset\").\n",
            "    \n"
          ]
        },
        {
          "output_type": "stream",
          "name": "stdout",
          "text": [
            "Initializing Carnatic rhythm dataset...\n",
            "Downloading dataset index...\n",
            "Loading tracks...\n",
            "Copying audio files for fold 1\n",
            "Copying annotation files for fold 1\n",
            "Creating info.json for fold 1\n",
            "Copying audio files for fold 2\n",
            "Copying annotation files for fold 2\n",
            "Creating info.json for fold 2\n",
            "Created audio_paths.tsv file at data/audio_paths.tsv\n",
            "Dataset splits creation completed successfully!\n"
          ]
        }
      ],
      "source": [
        "copy_by_fold(dataset_path=dataset_path, validate=False, verbose=True)"
      ]
    },
    {
      "cell_type": "code",
      "execution_count": 16,
      "metadata": {
        "colab": {
          "base_uri": "https://localhost:8080/"
        },
        "id": "TB1oQmlVqX59",
        "outputId": "9f619929-68d8-45a5-d90b-3d8f7d28a27f"
      },
      "outputs": [
        {
          "output_type": "stream",
          "name": "stdout",
          "text": [
            "Processing fold 1...\n"
          ]
        },
        {
          "output_type": "stream",
          "name": "stderr",
          "text": [
            "WARNING:root:Downloading ['index']. Index is being stored in /usr/local/lib/python3.12/dist-packages/mirdata/datasets/indexes\n",
            "WARNING:root:[index] downloading compmusic_carnatic_rhythm_full_index_1.0.json\n",
            "WARNING:root:/usr/local/lib/python3.12/dist-packages/mirdata/datasets/indexes/compmusic_carnatic_rhythm_full_index_1.0.json already exists and will not be downloaded. Rerun with force_overwrite=True to delete this file and force the download.\n",
            "WARNING:root:The files of this dataset are shared under request. Please go to: https://zenodo.org/record/1264394 and request access, stating\n",
            "    the research-related use you will give to the dataset. Once the access is granted (it may take, at most, one day or two), please download \n",
            "    the dataset with the provided Zenodo link and uncompress the two zip files: CMR_full_dataset_1.0.zip and CMR_subset_1.0.zip. You don't need \n",
            "    to re-arrange or change the folder structure of these two versions, the dataloader is designed to work with the provided file organization. \n",
            "    Therefore, simply uncompress and store the datasets to a desired location, and use such location to initialize the dataset as follows: \n",
            "    \n",
            "    compmusic_carnatic_rhythm = mirdata.initialize(\"compmusic_carnatic_rhythm\", data_home=\"/path/to/home/folder/of/dataset\").\n",
            "    \n",
            "WARNING:root:Downloading ['index']. Index is being stored in /usr/local/lib/python3.12/dist-packages/mirdata/datasets/indexes\n",
            "WARNING:root:[index] downloading compmusic_carnatic_rhythm_full_index_1.0.json\n",
            "WARNING:root:/usr/local/lib/python3.12/dist-packages/mirdata/datasets/indexes/compmusic_carnatic_rhythm_full_index_1.0.json already exists and will not be downloaded. Rerun with force_overwrite=True to delete this file and force the download.\n",
            "WARNING:root:The files of this dataset are shared under request. Please go to: https://zenodo.org/record/1264394 and request access, stating\n",
            "    the research-related use you will give to the dataset. Once the access is granted (it may take, at most, one day or two), please download \n",
            "    the dataset with the provided Zenodo link and uncompress the two zip files: CMR_full_dataset_1.0.zip and CMR_subset_1.0.zip. You don't need \n",
            "    to re-arrange or change the folder structure of these two versions, the dataloader is designed to work with the provided file organization. \n",
            "    Therefore, simply uncompress and store the datasets to a desired location, and use such location to initialize the dataset as follows: \n",
            "    \n",
            "    compmusic_carnatic_rhythm = mirdata.initialize(\"compmusic_carnatic_rhythm\", data_home=\"/path/to/home/folder/of/dataset\").\n",
            "    \n"
          ]
        },
        {
          "output_type": "stream",
          "name": "stdout",
          "text": [
            "Processing fold 2...\n"
          ]
        }
      ],
      "source": [
        "folds = [1,2]\n",
        "\n",
        "for fold in folds:\n",
        "    print(f\"Processing fold {fold}...\")\n",
        "    # Get the split keys for the current fold\n",
        "    export_split_tsv(dataset_path=dataset_path, train_fold=fold)"
      ]
    },
    {
      "cell_type": "markdown",
      "metadata": {
        "id": "dsnpvHSiqX59"
      },
      "source": [
        "## Preprocess"
      ]
    },
    {
      "cell_type": "code",
      "execution_count": null,
      "metadata": {
        "id": "zHjOXKoXqX59"
      },
      "outputs": [],
      "source": [
        "!python launch_scripts/preprocess_audio.py --orig_audio_paths data/audio_paths.tsv"
      ]
    },
    {
      "cell_type": "markdown",
      "source": [
        "## Cleanup"
      ],
      "metadata": {
        "id": "GprdvEhr8zcy"
      }
    },
    {
      "cell_type": "markdown",
      "metadata": {
        "id": "nZvj1xy8qX59"
      },
      "source": [
        "### Delete the generated audio files after preprocessing to save space"
      ]
    },
    {
      "cell_type": "code",
      "execution_count": 19,
      "metadata": {
        "colab": {
          "base_uri": "https://localhost:8080/"
        },
        "id": "6i40KByrqX59",
        "outputId": "c93e5dc4-1e45-460a-c784-db76bb332449"
      },
      "outputs": [
        {
          "output_type": "stream",
          "name": "stdout",
          "text": [
            "Deleting data/audio/cmr-fold1 ...\n",
            "Deleting data/audio/cmr-fold2 ...\n",
            "Deleting data/audio/mono_tracks ...\n"
          ]
        }
      ],
      "source": [
        "folders_to_delete = [\n",
        "    \"data/audio/cmr-fold1\",\n",
        "    \"data/audio/cmr-fold2\",\n",
        "    \"data/audio/mono_tracks\"\n",
        "]\n",
        "\n",
        "for folder in folders_to_delete:\n",
        "    if os.path.exists(folder):\n",
        "        print(f\"Deleting {folder} ...\")\n",
        "        shutil.rmtree(folder)\n",
        "    else:\n",
        "        print(f\"{folder} does not exist, skipping.\")\n"
      ]
    },
    {
      "cell_type": "markdown",
      "source": [
        "### Move data folder outside repo directory to save preprocessed data"
      ],
      "metadata": {
        "id": "kp1FGYrV_OrX"
      }
    },
    {
      "cell_type": "code",
      "source": [
        "# Move the data folder up one level\n",
        "current_dir = os.getcwd()\n",
        "parent_dir = os.path.dirname(current_dir)\n",
        "data_folder_path = os.path.join(current_dir, 'data')\n",
        "destination_path = os.path.join(parent_dir, 'data')\n",
        "\n",
        "if os.path.exists(data_folder_path):\n",
        "    print(f\"Moving {data_folder_path} to {destination_path} ...\")\n",
        "    shutil.move(data_folder_path, destination_path)\n",
        "else:\n",
        "    print(f\"{data_folder_path} does not exist, skipping move.\")"
      ],
      "metadata": {
        "colab": {
          "base_uri": "https://localhost:8080/"
        },
        "id": "fR2uouIT1gYR",
        "outputId": "8e242a78-2353-47d1-fee5-e23c647b984c"
      },
      "execution_count": 20,
      "outputs": [
        {
          "output_type": "stream",
          "name": "stdout",
          "text": [
            "Moving /content/drive/MyDrive/Beat_This_CMR/beat-this-carnatic/data to /content/drive/MyDrive/Beat_This_CMR/data ...\n"
          ]
        }
      ]
    }
  ],
  "metadata": {
    "colab": {
      "provenance": []
    },
    "kernelspec": {
      "display_name": "beatnavid",
      "language": "python",
      "name": "python3"
    },
    "language_info": {
      "codemirror_mode": {
        "name": "ipython",
        "version": 3
      },
      "file_extension": ".py",
      "mimetype": "text/x-python",
      "name": "python",
      "nbconvert_exporter": "python",
      "pygments_lexer": "ipython3",
      "version": "3.11.13"
    }
  },
  "nbformat": 4,
  "nbformat_minor": 0
}