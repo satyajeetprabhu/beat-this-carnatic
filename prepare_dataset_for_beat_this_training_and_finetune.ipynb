{
 "cells": [
  {
   "cell_type": "markdown",
   "metadata": {
    "id": "OjfyIVj6t20s"
   },
   "source": [
    "Summary of what this notebook is for:\n",
    "\n",
    "This notebook is for taking our augmented data from the timestretch approach and generating the spectrograms that are used for training.\n",
    "\n",
    "We then fine tune the model with this augemented data.\n",
    "\n",
    "It requires that the beat this data is cloned to a google drive in the correct location to run fully."
   ]
  },
  {
   "cell_type": "markdown",
   "metadata": {
    "id": "caJ1ebbyOyM7"
   },
   "source": [
    "# prepare spectrograms for beat this training\n",
    "\n",
    "This notebook is for preparing the spectograms for training for the beat this model based on our augmented data for timestrecthing"
   ]
  },
  {
   "cell_type": "code",
   "execution_count": 1,
   "metadata": {
    "colab": {
     "base_uri": "https://localhost:8080/"
    },
    "id": "XiERMXPkNYHA",
    "outputId": "6c56da42-035b-4104-bcdd-64334f01cc15"
   },
   "outputs": [
    {
     "name": "stdout",
     "output_type": "stream",
     "text": [
      "Cloning into 'data/annotations'...\n",
      "remote: Enumerating objects: 5789, done.\u001b[K\n",
      "remote: Counting objects: 100% (5789/5789), done.\u001b[K\n",
      "remote: Compressing objects: 100% (5660/5660), done.\u001b[K\n",
      "remote: Total 5789 (delta 123), reused 5765 (delta 107), pack-reused 0 (from 0)\u001b[K\n",
      "Receiving objects: 100% (5789/5789), 5.71 MiB | 8.92 MiB/s, done.\n",
      "Resolving deltas: 100% (123/123), done.\n"
     ]
    }
   ],
   "source": [
    "# get this data\n",
    "# !rm -rf data/annotations\n",
    "!mkdir -p data\n",
    "!git clone https://github.com/nhallajian/beat_this_annotations.git data/annotations"
   ]
  },
  {
   "cell_type": "code",
   "execution_count": 2,
   "metadata": {
    "colab": {
     "base_uri": "https://localhost:8080/"
    },
    "id": "h9Fm9sSk_O65",
    "outputId": "5f304f38-f9e6-428f-fa99-0c102d8825f3"
   },
   "outputs": [],
   "source": [
    "!mkdir data/audio\n",
    "!mkdir data/audio/guitarset-timeshift"
   ]
  },
  {
   "cell_type": "code",
   "execution_count": 3,
   "metadata": {
    "id": "iwALgMgF-zdM"
   },
   "outputs": [],
   "source": [
    "with open('data/audio_paths.tsv', 'w') as f:\n",
    "  f.write('guitarset-timeshift\\tdata/audio/guitarset-timeshift\\n')\n"
   ]
  },
  {
   "cell_type": "code",
   "execution_count": 4,
   "metadata": {
    "colab": {
     "base_uri": "https://localhost:8080/"
    },
    "id": "XQsHyvifBB5j",
    "outputId": "71e047b9-f20d-4ab0-855a-ac0f4409724b"
   },
   "outputs": [
    {
     "name": "stdout",
     "output_type": "stream",
     "text": [
      "Cloning into 'more-beats-for-this'...\n",
      "remote: Enumerating objects: 468, done.\u001b[K\n",
      "remote: Counting objects: 100% (252/252), done.\u001b[K\n",
      "remote: Compressing objects: 100% (226/226), done.\u001b[K\n",
      "remote: Total 468 (delta 37), reused 239 (delta 24), pack-reused 216 (from 2)\u001b[K\n",
      "Receiving objects: 100% (468/468), 163.84 MiB | 10.10 MiB/s, done.\n",
      "Resolving deltas: 100% (42/42), done.\n",
      "Updating files: 100% (382/382), done.\n"
     ]
    }
   ],
   "source": [
    "!git clone https://github.com/smilo7/more-beats-for-this.git"
   ]
  },
  {
   "cell_type": "code",
   "execution_count": 6,
   "metadata": {
    "id": "ma7EPxuLJeHV"
   },
   "outputs": [],
   "source": [
    "import shutil\n",
    "import os\n",
    "\n",
    "source_audio = \"more-beats-for-this/timeshift-augmentation/augmented_guitarset_dataset/audio\"\n",
    "dest_audio = \"data/audio/guitarset-timeshift\"\n",
    "\n",
    "# Create destination directories if they don't exist\n",
    "# os.makedirs(dest_annotations, exist_ok=True)\n",
    "os.makedirs(dest_audio, exist_ok=True)\n",
    "\n",
    "# Move audio files\n",
    "for filename in os.listdir(source_audio):\n",
    "  source_file = os.path.join(source_audio, filename)\n",
    "  dest_file = os.path.join(dest_audio, filename)\n",
    "  shutil.move(source_file, dest_file)\n"
   ]
  },
  {
   "cell_type": "code",
   "execution_count": 7,
   "metadata": {
    "colab": {
     "base_uri": "https://localhost:8080/"
    },
    "id": "eANnmBV_Prif",
    "outputId": "5332ba3a-5085-49f9-bc05-517a58522884"
   },
   "outputs": [
    {
     "name": "stdout",
     "output_type": "stream",
     "text": [
      "Cloning into 'beat_this'...\n",
      "remote: Enumerating objects: 1217, done.\u001b[K\n",
      "remote: Counting objects: 100% (213/213), done.\u001b[K\n",
      "remote: Compressing objects: 100% (32/32), done.\u001b[K\n",
      "remote: Total 1217 (delta 198), reused 181 (delta 181), pack-reused 1004 (from 1)\u001b[K\n",
      "Receiving objects: 100% (1217/1217), 10.44 MiB | 7.76 MiB/s, done.\n",
      "Resolving deltas: 100% (829/829), done.\n"
     ]
    }
   ],
   "source": [
    "!rm -rf beat_this\n",
    "!git clone https://github.com/nhallajian/beat_this.git"
   ]
  },
  {
   "cell_type": "code",
   "execution_count": 9,
   "metadata": {
    "colab": {
     "base_uri": "https://localhost:8080/",
     "height": 35
    },
    "id": "tSCIeiRWN1cD",
    "outputId": "00076573-be6c-479a-fcfa-e4ba1ec78069"
   },
   "outputs": [
    {
     "data": {
      "text/plain": [
       "'beat_this/data'"
      ]
     },
     "execution_count": 9,
     "metadata": {},
     "output_type": "execute_result"
    }
   ],
   "source": [
    "# prompt: ok move the data folder to within beat_this folder\n",
    "\n",
    "import shutil\n",
    "import os\n",
    "\n",
    "# Move the 'data' folder into the 'beat_this' directory\n",
    "source_data = \"data\"\n",
    "dest_data = \"beat_this/data\"\n",
    "\n",
    "# Create the destination directory if it doesn't exist\n",
    "os.makedirs(os.path.dirname(dest_data), exist_ok=True)\n",
    "\n",
    "shutil.move(source_data, dest_data)\n"
   ]
  },
  {
   "cell_type": "markdown",
   "metadata": {
    "id": "rQ9z_rKfYr3f"
   },
   "source": [
    "## install requirements for running beat this scripts/fine tuning"
   ]
  },
  {
   "cell_type": "code",
   "execution_count": null,
   "metadata": {
    "colab": {
     "base_uri": "https://localhost:8080/"
    },
    "id": "VZyJsht6OQh5",
    "outputId": "a51f7ca8-9556-4e02-9d96-eaf1ecd4427d"
   },
   "outputs": [],
   "source": [
    "!pip install pandas pedalboard\n",
    "!pip install pytorch_lightning\n",
    "!pip install https://github.com/CPJKU/beat_this/archive/main.zip"
   ]
  },
  {
   "cell_type": "code",
   "execution_count": null,
   "metadata": {
    "colab": {
     "base_uri": "https://localhost:8080/"
    },
    "id": "9MSneD0AOlu2",
    "outputId": "0a31d99b-4b80-4b8c-c6e2-a91d54e815a4"
   },
   "outputs": [],
   "source": [
    "# !pip install https://github.com/nhallajian/beat_this/archive/main.zip\n",
    "!pip install git+https://github.com/nhallajian/beat_this.git"
   ]
  },
  {
   "cell_type": "markdown",
   "metadata": {
    "id": "QiPoNthP8gYE"
   },
   "source": [
    "## process audio into spectrograms"
   ]
  },
  {
   "cell_type": "code",
   "execution_count": null,
   "metadata": {
    "colab": {
     "base_uri": "https://localhost:8080/"
    },
    "id": "L6uqqQBVOJk2",
    "outputId": "65e72bec-16e2-4776-9304-13a8fae94fde"
   },
   "outputs": [],
   "source": [
    "!python beat_this/launch_scripts/preprocess_audio.py --orig_audio_paths /content/beat_this/data/audio_paths.tsv"
   ]
  },
  {
   "cell_type": "markdown",
   "metadata": {
    "id": "AQCOwoEx8oq8"
   },
   "source": [
    "## download commands"
   ]
  },
  {
   "cell_type": "code",
   "execution_count": null,
   "metadata": {
    "colab": {
     "base_uri": "https://localhost:8080/",
     "height": 1000
    },
    "id": "4rOjDkv3vyTo",
    "outputId": "6da50f6d-1f96-438c-81aa-60a7d86a1930"
   },
   "outputs": [],
   "source": [
    "!zip -r /content/beat_this.zip /content/beat_this\n",
    "!ls\n",
    "from google.colab import files\n",
    "files.download(\"/content/beat_this.zip\")\n"
   ]
  },
  {
   "cell_type": "code",
   "execution_count": null,
   "metadata": {
    "colab": {
     "base_uri": "https://localhost:8080/"
    },
    "id": "PUy5uU9V0hV9",
    "outputId": "20c460da-d75f-4c55-d185-fdc316885320"
   },
   "outputs": [],
   "source": [
    "import shutil\n",
    "import os\n",
    "from google.colab import drive\n",
    "\n",
    "# Mount Google Drive\n",
    "drive.mount('/content/drive')\n",
    "\n",
    "# Define source and destination paths\n",
    "source_zip = \"/content/beat_this.zip\"\n",
    "destination_folder = \"/content/drive/My Drive/MIR-Final-Project\"  # Update with your desired folder path\n",
    "destination_zip = os.path.join(destination_folder, \"beat_this.zip\")\n",
    "\n",
    "# Create the destination directory if it doesn't exist\n",
    "os.makedirs(destination_folder, exist_ok=True)\n",
    "\n",
    "# Copy the zip file\n",
    "shutil.copy2(source_zip, destination_zip)\n",
    "\n",
    "print(f\"Successfully copied beat_this.zip to {destination_zip}\")\n"
   ]
  },
  {
   "cell_type": "code",
   "execution_count": null,
   "metadata": {
    "colab": {
     "base_uri": "https://localhost:8080/"
    },
    "id": "Ar7IP7m74XHG",
    "outputId": "83ae162d-cb04-46ba-b39d-a96c9805910e"
   },
   "outputs": [],
   "source": [
    "# prompt: how do i unzip a file in my google drive\n",
    "\n",
    "import zipfile\n",
    "import os\n",
    "from google.colab import drive\n",
    "\n",
    "# Mount Google Drive\n",
    "drive.mount('/content/drive')\n",
    "\n",
    "# Specify the path to the zip file in your Google Drive\n",
    "zip_file_path = \"/content/drive/My Drive/MIR-Final-Project/beat_this.zip\"  # Replace with your actual path\n",
    "\n",
    "# Specify the directory to extract the contents to\n",
    "extract_path = \"/content/drive/My Drive/MIR-Final-Project/beat_this\" # Replace with your desired extraction path\n",
    "\n",
    "# Create the extraction directory if it doesn't exist\n",
    "os.makedirs(extract_path, exist_ok=True)\n",
    "\n",
    "try:\n",
    "  with zipfile.ZipFile(zip_file_path, 'r') as zip_ref:\n",
    "    zip_ref.extractall(extract_path)\n",
    "  print(f\"Successfully unzipped {zip_file_path} to {extract_path}\")\n",
    "except FileNotFoundError:\n",
    "  print(f\"Error: Zip file not found at {zip_file_path}\")\n",
    "except zipfile.BadZipFile:\n",
    "  print(f\"Error: Invalid zip file at {zip_file_path}\")\n",
    "except Exception as e:\n",
    "  print(f\"An unexpected error occurred: {e}\")\n"
   ]
  },
  {
   "cell_type": "code",
   "execution_count": null,
   "metadata": {
    "colab": {
     "base_uri": "https://localhost:8080/"
    },
    "id": "sbX6_FAI1PQc",
    "outputId": "29404a76-9d92-468a-babd-8257983416cb"
   },
   "outputs": [],
   "source": [
    "import os\n",
    "\n",
    "# Get the size of the zip file in bytes\n",
    "zip_file_size_bytes = os.path.getsize('/content/beat_this.zip')\n",
    "\n",
    "# Convert bytes to gigabytes\n",
    "zip_file_size_gb = zip_file_size_bytes / (1024 ** 3)\n",
    "\n",
    "print(f\"Size of beat_this.zip: {zip_file_size_gb:.2f} GB\")\n"
   ]
  },
  {
   "cell_type": "markdown",
   "metadata": {
    "id": "3EglmcT19VnN"
   },
   "source": [
    "## copy over the new spectograms/audio from drive"
   ]
  },
  {
   "cell_type": "code",
   "execution_count": null,
   "metadata": {
    "colab": {
     "base_uri": "https://localhost:8080/"
    },
    "id": "wi0g1-1RCjKN",
    "outputId": "067a0029-d505-4cc7-b616-0445b9552336"
   },
   "outputs": [],
   "source": [
    "import shutil\n",
    "import os\n",
    "from google.colab import files\n",
    "from google.colab import drive\n",
    "import zipfile\n",
    "\n",
    "# Mount Google Drive\n",
    "drive.mount('/content/drive')\n",
    "\n",
    "# Specify the source and destination paths\n",
    "source_zip = \"/content/drive/My Drive/MIR-Final-Project/data.zip\"  # Replace with the actual path to your zip file\n",
    "destination_folder = \"/content/beat_this\"  # Replace with your desired extraction path\n",
    "\n",
    "# Create the destination directory if it doesn't exist\n",
    "os.makedirs(destination_folder, exist_ok=True)\n",
    "\n",
    "try:\n",
    "    with zipfile.ZipFile(source_zip, 'r') as zip_ref:\n",
    "        zip_ref.extractall(destination_folder)\n",
    "    print(f\"Successfully unzipped {source_zip} to {destination_folder}\")\n",
    "except FileNotFoundError:\n",
    "    print(f\"Error: Zip file not found at {source_zip}\")\n",
    "except zipfile.BadZipFile:\n",
    "    print(f\"Error: Invalid zip file at {source_zip}\")\n",
    "except Exception as e:\n",
    "    print(f\"An unexpected error occurred: {e}\")\n"
   ]
  },
  {
   "cell_type": "markdown",
   "metadata": {
    "id": "PWY-c-Ii0f9y"
   },
   "source": [
    "# get gtzan test set in drive"
   ]
  },
  {
   "cell_type": "code",
   "execution_count": null,
   "metadata": {
    "id": "rONzFK4L0iIL"
   },
   "outputs": [],
   "source": [
    "import os\n",
    "\n",
    "# Download the dataset\n",
    "!wget https://zenodo.org/records/13922116/files/gtzan.zip?download=1 -O gtzan.zip\n",
    "\n",
    "# Create the directory structure\n",
    "!mkdir -p data/audio/spectrograms\n",
    "\n",
    "# Extract the zip file\n",
    "!unzip gtzan.zip -d data/audio/spectrograms\n",
    "\n",
    "# Remove the zip file\n",
    "!rm gtzan.zip"
   ]
  },
  {
   "cell_type": "markdown",
   "metadata": {
    "id": "UxOQEdmp8lwh"
   },
   "source": [
    "## fine tune model on new data"
   ]
  },
  {
   "cell_type": "code",
   "execution_count": null,
   "metadata": {
    "colab": {
     "base_uri": "https://localhost:8080/"
    },
    "id": "U41FRjvKnofB",
    "outputId": "15f8e76f-1279-4acc-b126-ec4ba5be6126"
   },
   "outputs": [],
   "source": [
    "!git clone https://github.com/nhallajian/beat_this.git /content/drive/MyDrive/MIR-Final-Project/beat_this"
   ]
  },
  {
   "cell_type": "code",
   "execution_count": null,
   "metadata": {
    "colab": {
     "base_uri": "https://localhost:8080/"
    },
    "id": "a373aQ0goATY",
    "outputId": "ef4ae247-aaea-4c84-fd16-11152f1ecb95"
   },
   "outputs": [],
   "source": [
    "import shutil\n",
    "import os\n",
    "from google.colab import files\n",
    "from google.colab import drive\n",
    "import zipfile\n",
    "\n",
    "# Mount Google Drive\n",
    "drive.mount('/content/drive')\n",
    "\n",
    "# Specify the source and destination paths\n",
    "source_zip = \"/content/drive/My Drive/MIR-Final-Project/data.zip\"  # Replace with the actual path to your zip file\n",
    "destination_folder = \"/content/drive/My Drive/MIR-Final-Project/beat_this\"  # Replace with your desired extraction path\n",
    "\n",
    "# Create the destination directory if it doesn't exist\n",
    "os.makedirs(destination_folder, exist_ok=True)\n",
    "\n",
    "try:\n",
    "    with zipfile.ZipFile(source_zip, 'r') as zip_ref:\n",
    "        zip_ref.extractall(destination_folder)\n",
    "    print(f\"Successfully unzipped {source_zip} to {destination_folder}\")\n",
    "except FileNotFoundError:\n",
    "    print(f\"Error: Zip file not found at {source_zip}\")\n",
    "except zipfile.BadZipFile:\n",
    "    print(f\"Error: Invalid zip file at {source_zip}\")\n",
    "except Exception as e:\n",
    "    print(f\"An unexpected error occurred: {e}\")\n"
   ]
  },
  {
   "cell_type": "markdown",
   "metadata": {
    "id": "1Fi4pcSK_0rv"
   },
   "source": [
    "## check fork repo in drive is up to date"
   ]
  },
  {
   "cell_type": "code",
   "execution_count": null,
   "metadata": {
    "id": "64f8PnF19uS-"
   },
   "outputs": [],
   "source": [
    "!cd /content/drive/MyDrive/MIR-Final-Project/beat_this/ && git pull"
   ]
  },
  {
   "cell_type": "markdown",
   "metadata": {
    "id": "e9Py7-9a_4mW"
   },
   "source": [
    "## run tests on finetune model"
   ]
  },
  {
   "cell_type": "code",
   "execution_count": null,
   "metadata": {
    "colab": {
     "background_save": true,
     "base_uri": "https://localhost:8080/"
    },
    "id": "Czp1si3nmVuT",
    "outputId": "908c61bf-8f0d-4d4a-fa77-b8d5bebc967c"
   },
   "outputs": [],
   "source": [
    "!cd /content/drive/MyDrive/MIR-Final-Project/beat_this/ && python launch_scripts/train.py --name guitarset-timeshift-finetune-again --checkpoint final0.ckpt --annotation-dir guitarset-timeshift"
   ]
  }
 ],
 "metadata": {
  "accelerator": "GPU",
  "colab": {
   "gpuType": "T4",
   "provenance": []
  },
  "kernelspec": {
   "display_name": "beathis",
   "language": "python",
   "name": "python3"
  },
  "language_info": {
   "codemirror_mode": {
    "name": "ipython",
    "version": 3
   },
   "file_extension": ".py",
   "mimetype": "text/x-python",
   "name": "python",
   "nbconvert_exporter": "python",
   "pygments_lexer": "ipython3",
   "version": "3.11.13"
  }
 },
 "nbformat": 4,
 "nbformat_minor": 0
}
